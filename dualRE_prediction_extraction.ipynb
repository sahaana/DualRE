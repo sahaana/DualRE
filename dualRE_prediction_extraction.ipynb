{
 "cells": [
  {
   "cell_type": "markdown",
   "metadata": {},
   "source": [
    "# Imports"
   ]
  },
  {
   "cell_type": "code",
   "execution_count": 26,
   "metadata": {},
   "outputs": [],
   "source": [
    "import torch\n",
    "from torchtext import data\n",
    "\n",
    "from model.predictor import Predictor\n",
    "from model.trainer import Trainer, get_predictor_predictions\n",
    "\n",
    "from utils import torch_utils"
   ]
  },
  {
   "cell_type": "markdown",
   "metadata": {},
   "source": [
    "# Load Saved Model"
   ]
  },
  {
   "cell_type": "code",
   "execution_count": 52,
   "metadata": {},
   "outputs": [],
   "source": [
    "# set this to whichever run you want the model of\n",
    "best_model_path = \"saved_models/tacred/DualRE/0.1_0.5/09-04_12-04/predictor/\"\n",
    "\n",
    "# set this to if you're pulling train/dev/test\n",
    "split = 'test'"
   ]
  },
  {
   "cell_type": "code",
   "execution_count": 28,
   "metadata": {},
   "outputs": [],
   "source": [
    "model_file = best_model_path + \"best_model.pt\"\n",
    "model_config = best_model_path + \"config.json\"\n",
    "model_type = \"predictor\"\n",
    "\n",
    "model_opt = torch_utils.load_config(model_file)\n",
    "predictor = Predictor(model_opt)\n",
    "model = Trainer(model_opt, predictor, model_type=model_type)\n",
    "model.load(model_file)"
   ]
  },
  {
   "cell_type": "markdown",
   "metadata": {},
   "source": [
    "# Load Datasets"
   ]
  },
  {
   "cell_type": "code",
   "execution_count": 47,
   "metadata": {
    "scrolled": false
   },
   "outputs": [],
   "source": [
    "TOKEN = data.Field(sequential=True, batch_first=True, lower=True, include_lengths=True)\n",
    "RELATION = data.Field(sequential=False, pad_token=None)\n",
    "POS = data.Field(sequential=True, batch_first=True)\n",
    "NER = data.Field(sequential=True, batch_first=True)\n",
    "PST = data.Field(sequential=True, batch_first=True)\n",
    "PR_CONFIDENCE = data.Field(sequential=False, use_vocab=False, dtype=torch.float)\n",
    "SL_CONFIDENCE = data.Field(sequential=False, use_vocab=False, dtype=torch.float)\n",
    "ID = data.Field(sequential=False, pad_token=None)\n",
    "\n",
    "FIELDS = {\n",
    "    \"id\": (\"id\", ID),\n",
    "    \"tokens\": (\"token\", TOKEN),\n",
    "    \"stanford_pos\": (\"pos\", POS),\n",
    "    \"stanford_ner\": (\"ner\", NER),\n",
    "    \"relation\": (\"relation\", RELATION),\n",
    "    \"subj_pst\": (\"subj_pst\", PST),\n",
    "    \"obj_pst\": (\"obj_pst\", PST),\n",
    "    \"pr_confidence\": (\"pr_confidence\", PR_CONFIDENCE),\n",
    "    \"sl_confidence\": (\"sl_confidence\", SL_CONFIDENCE),\n",
    "}\n",
    "\n",
    "datasets = {}\n",
    "\n",
    "dataset_vocab = data.TabularDataset(path=model_opt[\"data_dir\"] + \"/train.json\", format=\"json\", fields=FIELDS)\n",
    "datasets['train'] = data.TabularDataset(path=model_opt[\"data_dir\"] + \"/train-\" + str(model_opt[\"labeled_ratio\"]) + \".json\",\n",
    "                                    format=\"json\", fields=FIELDS)\n",
    "datasets['dev'] = data.TabularDataset(path=model_opt[\"data_dir\"] + \"/dev.json\", format=\"json\", fields=FIELDS)\n",
    "datasets['test'] = data.TabularDataset(path=model_opt[\"data_dir\"] + \"/test.json\", format=\"json\", fields=FIELDS)\n",
    "\n",
    "TOKEN.build_vocab(dataset_vocab)\n",
    "RELATION.build_vocab(dataset_vocab)\n",
    "POS.build_vocab(dataset_vocab)\n",
    "NER.build_vocab(dataset_vocab)\n",
    "PST.build_vocab(dataset_vocab)\n",
    "TOKEN.vocab.load_vectors(\"glove.840B.300d\", cache=\"./dataset/.vectors_cache\")"
   ]
  },
  {
   "cell_type": "markdown",
   "metadata": {},
   "source": [
    "# Build id vocab based on input split (hack)"
   ]
  },
  {
   "cell_type": "code",
   "execution_count": 53,
   "metadata": {},
   "outputs": [],
   "source": [
    "ID.build_vocab(datasets[split])"
   ]
  },
  {
   "cell_type": "markdown",
   "metadata": {},
   "source": [
    "# Generate Predictions"
   ]
  },
  {
   "cell_type": "code",
   "execution_count": 54,
   "metadata": {},
   "outputs": [],
   "source": [
    "golds, predictions, ids = get_predictor_predictions(model, datasets[split])"
   ]
  }
 ],
 "metadata": {
  "kernelspec": {
   "display_name": "wsss",
   "language": "python",
   "name": "wsss"
  },
  "language_info": {
   "codemirror_mode": {
    "name": "ipython",
    "version": 3
   },
   "file_extension": ".py",
   "mimetype": "text/x-python",
   "name": "python",
   "nbconvert_exporter": "python",
   "pygments_lexer": "ipython3",
   "version": "3.8.5"
  },
  "toc": {
   "base_numbering": 1,
   "nav_menu": {},
   "number_sections": true,
   "sideBar": true,
   "skip_h1_title": false,
   "title_cell": "Table of Contents",
   "title_sidebar": "Contents",
   "toc_cell": false,
   "toc_position": {},
   "toc_section_display": true,
   "toc_window_display": false
  }
 },
 "nbformat": 4,
 "nbformat_minor": 4
}
