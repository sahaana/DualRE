{
 "cells": [
  {
   "cell_type": "markdown",
   "metadata": {},
   "source": [
    "# Imports"
   ]
  },
  {
   "cell_type": "code",
   "execution_count": 5,
   "metadata": {},
   "outputs": [],
   "source": [
    "import torch\n",
    "from torchtext import data\n",
    "\n",
    "from model.predictor import Predictor\n",
    "from model.trainer import Trainer, get_predictor_predictions\n",
    "\n",
    "from utils import torch_utils"
   ]
  },
  {
   "cell_type": "markdown",
   "metadata": {},
   "source": [
    "# Load Saved Model"
   ]
  },
  {
   "cell_type": "code",
   "execution_count": 3,
   "metadata": {},
   "outputs": [],
   "source": [
    "# set this to whichever run you want the model of\n",
    "best_model_path = \"saved_models/tacred/DualRE/0.1_0.5/09-04_12-04/predictor/\""
   ]
  },
  {
   "cell_type": "code",
   "execution_count": null,
   "metadata": {},
   "outputs": [],
   "source": [
    "model_file = best_model_path + \"best_model.pt\"\n",
    "model_config = best_model_path + \"config.json\"\n",
    "model_type = \"predictor\"\n",
    "\n",
    "model_opt = torch_utils.load_config(model_file)\n",
    "predictor = Predictor(model_opt)\n",
    "model = Trainer(model_opt, predictor, model_type=model_type)\n",
    "model.load(model_file)"
   ]
  },
  {
   "cell_type": "markdown",
   "metadata": {},
   "source": [
    "# Load Datasets"
   ]
  },
  {
   "cell_type": "code",
   "execution_count": 7,
   "metadata": {
    "scrolled": false
   },
   "outputs": [
    {
     "name": "stderr",
     "output_type": "stream",
     "text": [
      "/dfs/scratch1/sahaana/miniconda3/envs/wsss/lib/python3.8/site-packages/torchtext/data/field.py:150: UserWarning: Field class will be retired in the 0.8.0 release and moved to torchtext.legacy. Please see 0.7.0 release notes for further information.\n",
      "  warnings.warn('{} class will be retired in the 0.8.0 release and moved to torchtext.legacy. Please see 0.7.0 release notes for further information.'.format(self.__class__.__name__), UserWarning)\n",
      "/dfs/scratch1/sahaana/miniconda3/envs/wsss/lib/python3.8/site-packages/torchtext/data/example.py:13: UserWarning: Example class will be retired in the 0.8.0 release and moved to torchtext.legacy. Please see 0.7.0 release notes for further information.\n",
      "  warnings.warn('Example class will be retired in the 0.8.0 release and moved to torchtext.legacy. Please see 0.7.0 release notes for further information.', UserWarning)\n",
      "100%|█████████▉| 2196016/2196017 [02:48<00:00, 13021.94it/s]\n"
     ]
    }
   ],
   "source": [
    "TOKEN = data.Field(sequential=True, batch_first=True, lower=True, include_lengths=True)\n",
    "RELATION = data.Field(sequential=False, pad_token=None)\n",
    "POS = data.Field(sequential=True, batch_first=True)\n",
    "NER = data.Field(sequential=True, batch_first=True)\n",
    "PST = data.Field(sequential=True, batch_first=True)\n",
    "PR_CONFIDENCE = data.Field(sequential=False, use_vocab=False, dtype=torch.float)\n",
    "SL_CONFIDENCE = data.Field(sequential=False, use_vocab=False, dtype=torch.float)\n",
    "\n",
    "FIELDS = {\n",
    "    \"tokens\": (\"token\", TOKEN),\n",
    "    \"stanford_pos\": (\"pos\", POS),\n",
    "    \"stanford_ner\": (\"ner\", NER),\n",
    "    \"relation\": (\"relation\", RELATION),\n",
    "    \"subj_pst\": (\"subj_pst\", PST),\n",
    "    \"obj_pst\": (\"obj_pst\", PST),\n",
    "    \"pr_confidence\": (\"pr_confidence\", PR_CONFIDENCE),\n",
    "    \"sl_confidence\": (\"sl_confidence\", SL_CONFIDENCE),\n",
    "}\n",
    "\n",
    "dataset_vocab = data.TabularDataset(path=model_opt[\"data_dir\"] + \"/train.json\", format=\"json\", fields=FIELDS)\n",
    "dataset_train = data.TabularDataset(path=model_opt[\"data_dir\"] + \"/train-\" + str(model_opt[\"labeled_ratio\"]) + \".json\",\n",
    "                                    format=\"json\", fields=FIELDS)\n",
    "dataset_dev = data.TabularDataset(path=model_opt[\"data_dir\"] + \"/dev.json\", format=\"json\", fields=FIELDS)\n",
    "dataset_test = data.TabularDataset(path=model_opt[\"data_dir\"] + \"/test.json\", format=\"json\", fields=FIELDS)\n",
    "\n",
    "TOKEN.build_vocab(dataset_vocab)\n",
    "RELATION.build_vocab(dataset_vocab)\n",
    "POS.build_vocab(dataset_vocab)\n",
    "NER.build_vocab(dataset_vocab)\n",
    "PST.build_vocab(dataset_vocab)\n",
    "TOKEN.vocab.load_vectors(\"glove.840B.300d\", cache=\"./dataset/.vectors_cache\")"
   ]
  },
  {
   "cell_type": "markdown",
   "metadata": {},
   "source": [
    "# Generate Predictions"
   ]
  },
  {
   "cell_type": "code",
   "execution_count": 12,
   "metadata": {},
   "outputs": [],
   "source": [
    "golds_train, predictions_train = get_predictor_predictions(model, dataset_train)\n",
    "golds_dev, predictions_dev = get_predictor_predictions(model, dataset_dev)\n",
    "golds_test, predictions_test = get_predictor_predictions(model, dataset_test)"
   ]
  },
  {
   "cell_type": "code",
   "execution_count": null,
   "metadata": {},
   "outputs": [],
   "source": []
  }
 ],
 "metadata": {
  "kernelspec": {
   "display_name": "wsss",
   "language": "python",
   "name": "wsss"
  },
  "language_info": {
   "codemirror_mode": {
    "name": "ipython",
    "version": 3
   },
   "file_extension": ".py",
   "mimetype": "text/x-python",
   "name": "python",
   "nbconvert_exporter": "python",
   "pygments_lexer": "ipython3",
   "version": "3.8.5"
  },
  "toc": {
   "base_numbering": 1,
   "nav_menu": {},
   "number_sections": true,
   "sideBar": true,
   "skip_h1_title": false,
   "title_cell": "Table of Contents",
   "title_sidebar": "Contents",
   "toc_cell": false,
   "toc_position": {},
   "toc_section_display": true,
   "toc_window_display": false
  }
 },
 "nbformat": 4,
 "nbformat_minor": 4
}
